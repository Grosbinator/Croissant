{
 "cells": [
  {
   "cell_type": "markdown",
   "id": "929dff04",
   "metadata": {},
   "source": [
    "Organisation du dataset pour s'y retrouver entre les masques et les images"
   ]
  },
  {
   "cell_type": "code",
   "execution_count": 2,
   "id": "ee41a2c3",
   "metadata": {},
   "outputs": [],
   "source": [
    "import os\n",
    "import shutil\n",
    "import glob\n",
    "\n",
    "src_dir_benign = \"/home/dsplab/Robin/archive/Dataset_BUSI_with_GT/benign\"\n",
    "src_dir_malign = \"/home/dsplab/Robin/archive/Dataset_BUSI_with_GT/malignant\"\n",
    "\n",
    "dst_mask_benign = \"/home/dsplab/Robin/image_mask/dataset/benign_mask\"\n",
    "dst_images_benign = \"/home/dsplab/Robin/image_mask/dataset/benign_images\"\n",
    "dst_mask_malign = \"/home/dsplab/Robin/image_mask/dataset/malign_mask\"\n",
    "dst_images_malign = \"/home/dsplab/Robin/image_mask/dataset/malign_images\"\n",
    "\n",
    "# Supprime tout le contenu du dossier\n",
    "for f in glob.glob(os.path.join(dst_images_benign, \"*\")):\n",
    "    os.remove(f)\n",
    "for f in glob.glob(os.path.join(dst_images_malign, \"*\")):\n",
    "    os.remove(f)\n",
    "for f in glob.glob(os.path.join(dst_mask_benign, \"*\")):\n",
    "    os.remove(f)\n",
    "for f in glob.glob(os.path.join(dst_mask_malign, \"*\")):\n",
    "    os.remove(f)\n",
    "\n",
    "# Crée les dossiers de destination s'ils n'existent pas\n",
    "os.makedirs(dst_mask_malign, exist_ok=True)\n",
    "os.makedirs(dst_images_malign, exist_ok=True)\n",
    "os.makedirs(dst_mask_benign, exist_ok=True)\n",
    "os.makedirs(dst_images_benign, exist_ok=True)\n",
    "\n",
    "# Copie les masques\n",
    "for mask_path in glob.glob(os.path.join(src_dir_malign, \"*mask*.png\")):\n",
    "    shutil.copy(mask_path, os.path.join(dst_mask_malign, os.path.basename(mask_path)))\n",
    "for mask_path in glob.glob(os.path.join(src_dir_benign, \"*mask*.png\")):\n",
    "    shutil.copy(mask_path, os.path.join(dst_mask_benign, os.path.basename(mask_path)))\n",
    "\n",
    "# Copie les autres images\n",
    "for img_path in glob.glob(os.path.join(src_dir_malign, \"*\")):\n",
    "    if \"mask\" not in os.path.basename(img_path) and os.path.isfile(img_path):\n",
    "        shutil.copy(img_path, os.path.join(dst_images_malign, os.path.basename(img_path)))\n",
    "for img_path in glob.glob(os.path.join(src_dir_benign, \"*\")):\n",
    "    if \"mask\" not in os.path.basename(img_path) and os.path.isfile(img_path):\n",
    "        shutil.copy(img_path, os.path.join(dst_images_benign, os.path.basename(img_path)))"
   ]
  }
 ],
 "metadata": {
  "kernelspec": {
   "display_name": "luca",
   "language": "python",
   "name": "python3"
  },
  "language_info": {
   "codemirror_mode": {
    "name": "ipython",
    "version": 3
   },
   "file_extension": ".py",
   "mimetype": "text/x-python",
   "name": "python",
   "nbconvert_exporter": "python",
   "pygments_lexer": "ipython3",
   "version": "3.11.0"
  }
 },
 "nbformat": 4,
 "nbformat_minor": 5
}
